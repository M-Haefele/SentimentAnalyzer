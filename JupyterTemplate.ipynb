{
 "cells": [
  {
   "cell_type": "code",
   "execution_count": null,
   "id": "cellular-syndicate",
   "metadata": {},
   "outputs": [],
   "source": [
    "import tweepy\n",
    "import webbrowser\n",
    "import time\n",
    "import pandas as pd\n",
    "\n",
    "consumer_key = \"F1LblHerIUIFxfH4r6riCm3Gq\"\n",
    "consumer_secret_key = \"ZvfumnrQh0JwATCraIlTBntrNflf6fIOfO66psDDzxmNyH9Ysi\"\n",
    "callback_uri = 'oob' #callback\n",
    "auth = tweepy.OAuthHandler(consumer_key, consumer_secret_key, callback_uri)\n",
    "redirect_url = auth.get_authorization_url()\n",
    "webbrowser.open(redirect_url)\n",
    "print(redirect_url)\n",
    "user_pin_input = input(\"Pin ? : \")\n",
    "auth.get_access_token(user_pin_input)\n",
    "api = tweepy.API(auth)\n",
    "me = api.me()\n"
   ]
  },
  {
   "cell_type": "code",
   "execution_count": null,
   "id": "inappropriate-aberdeen",
   "metadata": {},
   "outputs": [],
   "source": [
    "columns = set()\n",
    "allowed_types = [str, int]\n",
    "tweets = []\n",
    "number_of_tweets = 100;\n",
    "timeline = api.user_timeline('@mtgreenee',count=number_of_tweets,tweet_mode=\"extended\")\n",
    "for status in timeline:\n",
    "    #timeline parsed into dictionary\n",
    "    individual_tweet = {}\n",
    "    status_dictionary = dict(vars(status))\n",
    "    keys = status_dictionary.keys()\n",
    "    for k in keys:\n",
    "        value = type(status_dictionary[k])\n",
    "        columns.add('@mtgreenee')\n",
    "        if value in allowed_types:\n",
    "            individual_tweet[k] = status_dictionary[k]\n",
    "        if k == 'full_text':\n",
    "            columns.add(k)\n",
    "    tweets.append(individual_tweet)    \n",
    "        \n",
    "csv_columns = list(columns)\n",
    "df = pd.DataFrame(tweets, columns=csv_columns)\n",
    "print(df)\n"
   ]
  },
  {
   "cell_type": "code",
   "execution_count": null,
   "id": "random-majority",
   "metadata": {},
   "outputs": [],
   "source": [
    "df.to_csv(r'~/Desktop/BigDataProj/BigDataProj/Tweets.csv', index = False)"
   ]
  },
  {
   "cell_type": "code",
   "execution_count": null,
   "id": "electoral-stand",
   "metadata": {},
   "outputs": [],
   "source": []
  }
 ],
 "metadata": {
  "kernelspec": {
   "display_name": "Python 3",
   "language": "python",
   "name": "python3"
  },
  "language_info": {
   "codemirror_mode": {
    "name": "ipython",
    "version": 3
   },
   "file_extension": ".py",
   "mimetype": "text/x-python",
   "name": "python",
   "nbconvert_exporter": "python",
   "pygments_lexer": "ipython3",
   "version": "3.8.5"
  }
 },
 "nbformat": 4,
 "nbformat_minor": 5
}
